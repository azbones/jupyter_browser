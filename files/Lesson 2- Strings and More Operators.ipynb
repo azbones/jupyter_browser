{
 "cells": [
  {
   "cell_type": "markdown",
   "id": "9ad425f6",
   "metadata": {},
   "source": [
    "<center>\n",
    "<img src= \"./images/LogoCGUHS.png\" >\n",
    "</center>\n",
    "\n",
    "\n",
    "# Lesson 2: Strings and More Operators\n",
    "\n",
    "## Different types of values\n",
    "\n",
    "In the last lesson, we assigned some values to the variables we created. Recall, we made a variable called ```temperature``` to which we then assigned a value of 70. We did this like:\n",
    "\n",
    "```python\n",
    "temperature = 70\n",
    "```\n",
    "\n",
    "Temperature is our variable name, the equal sign is the way Python knows what to assign to the variable, and 70 is the value we assigned. If we wanted to convert out Python code into an English phrase it would be:\n",
    "\n",
    "```create a variable called temperature and then assign the number 70 to it```\n",
    "\n",
    "Python allows you to assign many different types of things to variables. In the temperature case, we assigned a *numeric* value of 70 to the temperature variable. The data type of a something to be assigned to a variable describes what kind of thing it is.\n",
    "\n",
    "For numeric data types, there are three basic kinds. The value ```70``` we used above is an integer (it is a whole number). When we assigned 70 to the variable ```temperature```, Python automatically decided it was an integer given it had no decimal places. \n",
    "\n",
    "|Category|Data Types|Example|\n",
    "|---|---|---|\n",
    "|numeric|```int```|an integer like 4|\n",
    "|numeric|```float```|a floating point number like 4.12|\n",
    "|numeric|```complex```|a complex or imaginary number like 3+5i|\n",
    "\n",
    "\n",
    "We can use the ```type()``` command to determine what data type a value or variable has. Much like the ```print``` command we used in the last lesson, we use ```type``` by putting the value or variable we want to determine the data type for in the parentheses of the command. Instead of printing the variable value, ```type``` returns the data type using Python's names for different types.\n",
    "\n",
    "Let's do that now.\n"
   ]
  },
  {
   "cell_type": "code",
   "execution_count": null,
   "id": "f3c6f765",
   "metadata": {},
   "outputs": [],
   "source": [
    "# Run this code block\n",
    "\n",
    "type(70)"
   ]
  },
  {
   "cell_type": "code",
   "execution_count": null,
   "id": "28cbd895",
   "metadata": {},
   "outputs": [],
   "source": [
    "# Run this code block\n",
    "\n",
    "temperature = 70\n",
    "\n",
    "type(temperature)"
   ]
  },
  {
   "cell_type": "code",
   "execution_count": null,
   "id": "cb932b56",
   "metadata": {},
   "outputs": [],
   "source": [
    "# Run this code block\n",
    "\n",
    "type(70.5)"
   ]
  },
  {
   "cell_type": "code",
   "execution_count": null,
   "id": "d1bef375",
   "metadata": {},
   "outputs": [],
   "source": [
    "# Run this code block\n",
    "\n",
    "temperature = 70.5\n",
    "\n",
    "type(temperature)"
   ]
  },
  {
   "cell_type": "markdown",
   "id": "01e177e6",
   "metadata": {},
   "source": [
    "What if we want to have a variable that has a text value in it? For example, let's say we want a variable called ```name``` and we want to assign that variable the name value of ```Naruto```.\n",
    "\n",
    "Without knowing anything else, we might guess that the code to do this would look like:\n",
    "\n",
    "```python\n",
    "name = Naruto\n",
    "```\n",
    "\n",
    "Try to run that code below:"
   ]
  },
  {
   "cell_type": "code",
   "execution_count": null,
   "id": "4cc79827",
   "metadata": {},
   "outputs": [],
   "source": [
    "name = Naruto"
   ]
  },
  {
   "cell_type": "markdown",
   "id": "e8657d45",
   "metadata": {},
   "source": [
    "This code block above will not work as Python can't tell whether \"Naruto\" is a value or a variable. The error should look like this:\n",
    "\n",
    "```python\n",
    "---------------------------------------------------------------------------\n",
    "NameError                                 Traceback (most recent call last)\n",
    "<ipython-input-7-5361f7841c8a> in <module>\n",
    "----> 1 name = Naruto\n",
    "\n",
    "NameError: name 'Naruto' is not defined\n",
    "```\n",
    "\n",
    "The last line of the error tells you the problem is that the name \"Naruto\" is not defined. Another way to read this is that there is not a variable named \"Naruto\" in your Python session.\n",
    "\n",
    "## Strings\n",
    "\n",
    "For text values like \"Naruto\", we need to let Python know they are text and not variable names. In programming, we refer to such text as \"strings\". A string is any text we wish to use like when we assign it to a variable. In order to make this clear to Python, strings are always enclosed in quotation marks. So, the code below is properly formatted to assign \"Naruto\" to a variable called \"name\"."
   ]
  },
  {
   "cell_type": "code",
   "execution_count": null,
   "id": "19b38430",
   "metadata": {},
   "outputs": [],
   "source": [
    "name = \"Naruto\""
   ]
  },
  {
   "cell_type": "markdown",
   "id": "048e7e8e",
   "metadata": {},
   "source": [
    "Try using the print command below to test your assignment."
   ]
  },
  {
   "cell_type": "code",
   "execution_count": null,
   "id": "f2cde4fe",
   "metadata": {},
   "outputs": [],
   "source": [
    "# Insert your variable name in the command below and run\n",
    "\n",
    "print()"
   ]
  },
  {
   "cell_type": "markdown",
   "id": "b1a8fe95",
   "metadata": {},
   "source": [
    "Next, use the ```type``` command to check the data type of the variable you just created below."
   ]
  },
  {
   "cell_type": "code",
   "execution_count": null,
   "id": "2a352fab",
   "metadata": {},
   "outputs": [],
   "source": [
    "# Insert your variable name in the command below and run\n",
    "\n",
    "type()"
   ]
  },
  {
   "cell_type": "markdown",
   "id": "953fd19b",
   "metadata": {},
   "source": [
    "The text or string data type is represented by ```str``` by Python. A string data type can be more than just standard text and can include characters like emojis. "
   ]
  },
  {
   "cell_type": "code",
   "execution_count": null,
   "id": "b5f80b08",
   "metadata": {},
   "outputs": [],
   "source": [
    "# Run this code\n",
    "\n",
    "print(\"😀\")"
   ]
  },
  {
   "cell_type": "markdown",
   "id": "15e9e35f",
   "metadata": {},
   "source": [
    "You can also use some of the operators we used for numeric values on strings. For example, if you wanted to connect two strings together, you could use the ```+``` operator. "
   ]
  },
  {
   "cell_type": "code",
   "execution_count": null,
   "id": "cda90864",
   "metadata": {},
   "outputs": [],
   "source": [
    "# Run this code\n",
    "\n",
    "a = \"Nar\"\n",
    "b = \"uto\"\n",
    "\n",
    "print(a+b)"
   ]
  },
  {
   "cell_type": "markdown",
   "id": "92603f20",
   "metadata": {},
   "source": [
    "## Logical/Comparison Operators\n",
    "\n",
    "Python has a very powerful set of operators that can be used compare the values of different variables. For example, let's say you have two variables called ```name_one``` and ```name_two``` and you wanted to see if their assigned values were the same. \n",
    "\n",
    "To see if two values or variables are the same, you use the equal operator ```==``` which is two equal signs. Note that this is completely different from the assign operator which is a single equal sign.\n",
    "\n",
    "When Python conducts a comparison, there are generally two potential outcomes ```True``` or ```False```."
   ]
  },
  {
   "cell_type": "code",
   "execution_count": null,
   "id": "530ae6e7",
   "metadata": {},
   "outputs": [],
   "source": [
    "# Run this code\n",
    "\n",
    "# Create two variables with assignments\n",
    "name_one = \"Naruto\"\n",
    "name_two = \"Sauske\"\n",
    "\n",
    "# Use the equality operator to compare them\n",
    "name_one == name_two"
   ]
  },
  {
   "cell_type": "markdown",
   "id": "2ebb5e75",
   "metadata": {},
   "source": [
    "Try reassigning the same values to these variables and testing their equality below."
   ]
  },
  {
   "cell_type": "code",
   "execution_count": null,
   "id": "48741dc5",
   "metadata": {},
   "outputs": [],
   "source": [
    "# Complete the code below and run\n",
    "\n",
    "# Create two variables with assignments that are the same string values\n",
    "name_one = \n",
    "name_two = \n",
    "\n",
    "# Use the equality operator to compare them\n",
    "name_one == name_two"
   ]
  },
  {
   "cell_type": "markdown",
   "id": "60558e95",
   "metadata": {},
   "source": [
    "There are several other logical operators which can work with either numeric data types or string data types. For numeric data types, these should be fairly easy to understand. While these all work for string data types, some of them may more difficult to understand. For example, the following code is valid, but what ```True``` means might not be obvious."
   ]
  },
  {
   "cell_type": "code",
   "execution_count": null,
   "id": "95904ee9",
   "metadata": {},
   "outputs": [],
   "source": [
    "# Run this code\n",
    "\n",
    "\"dog\" > \"cat\""
   ]
  },
  {
   "cell_type": "markdown",
   "id": "36e5f71d",
   "metadata": {},
   "source": [
    "In this case, Python is comparing the order of the first two letters of each string. So, it is answering the question is \"d\" greater than \"c\". It answers this question based on the alphabetical order of \"d\" versus \"c\". Because \"d\" comes after \"c\", it is greater (in terms of ordering) and Python evaluates this line of code as ```True```."
   ]
  },
  {
   "cell_type": "markdown",
   "id": "b4b3d141",
   "metadata": {},
   "source": [
    "Some other common comparison operators are in the table below:\n",
    "\n",
    "|Operator|Name|Example|Result|\n",
    "|---|---|---|---|\n",
    "|==|\tEqual|\tx==y\t|True if x is exactly equal to y.\n",
    "|!=\t|Not equal|\tx!=y\t|True if x is exactly not equal to y.\n",
    "|>   |\tGreater than|\tx>y\t|True if x (left-hand argument) is greater than y (right-hand argument).\n",
    "|<|\tLess than|\tx<y\t|True if x (left-hand argument) is less than y (right-hand argument).\n",
    "|>=\t|Greater than or equal to\t|x>=y\t|True if x (left-hand argument) is greater than or equal to y (left-hand argument).\n",
    "|<=\t|Less than or equal to\t|x<=y|\tTrue if x (left-hand argument) is less than or equal to y (right-hand argument).\n",
    "\n",
    "Try using Python to compare both string and numeric values below. You can either assign the values to variables and compare those, compare values to other values, or compare variables and values. "
   ]
  },
  {
   "cell_type": "code",
   "execution_count": null,
   "id": "d6d65647",
   "metadata": {},
   "outputs": [],
   "source": [
    "# Enter a numeric comparison below and run\n",
    "\n"
   ]
  },
  {
   "cell_type": "code",
   "execution_count": null,
   "id": "9178251f",
   "metadata": {},
   "outputs": [],
   "source": [
    "# Enter a string comparison below and run\n",
    "\n"
   ]
  },
  {
   "cell_type": "markdown",
   "id": "9722570a",
   "metadata": {},
   "source": [
    "# Record a Tuneni video describing what data types in Python are\n",
    "\n",
    "Using the Tuneni video feature in this lesson, record yourself describing what data types are and the difference between text and numeric data types."
   ]
  }
 ],
 "metadata": {
  "kernelspec": {
   "display_name": "Python 3",
   "language": "python",
   "name": "python3"
  },
  "language_info": {
   "codemirror_mode": {
    "name": "ipython",
    "version": 3
   },
   "file_extension": ".py",
   "mimetype": "text/x-python",
   "name": "python",
   "nbconvert_exporter": "python",
   "pygments_lexer": "ipython3",
   "version": "3.8.8"
  }
 },
 "nbformat": 4,
 "nbformat_minor": 5
}
