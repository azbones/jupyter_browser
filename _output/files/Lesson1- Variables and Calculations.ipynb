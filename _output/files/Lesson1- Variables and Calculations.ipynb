{
 "cells": [
  {
   "cell_type": "markdown",
   "id": "6e446ecd",
   "metadata": {},
   "source": [
    "# Lesson1: Variables and Calculations\n",
    "\n",
    "## What is a variable?\n",
    "\n",
    "All programming languages use variables to keep track of what they are doing. Variables as their name implies can vary or change.\n",
    "\n",
    "Let's say you want to write a program that tells the temperature of the room you are in. Your program connects to a sensor which when asked will return the current temperature. While the actual temperature of the room will change, your program needs something to refer to that has the current temperature.\n",
    "\n",
    "This is where variables come in. A variable is a name for a value like temperature. When writing a program you can name the variable almost anything you want. You should give it a name that represents what it is.\n",
    "\n",
    "In this case, you can create a variable called ```temperature```. Once you create that variable, you can change it or use it to do other things.  Let's try this for real using Python in this notebook\n",
    "\n",
    "## Create a variable\n",
    "\n",
    "The text in the code block below is creating a variable called ```temperature``` and assigning it an initial value of 70. In order to create the variable in Python, we have to run the code. We can do that by putting our cursor in the code block below and clicking the \"run\" button in the menu above. We can also run code by selecting the code block with our cursor and hitting ```control-return```.\n",
    "\n",
    "Before we start running code, we should talk about code comments. In a code block, we can include text that we want as a note to humans that Python ignores and does not run. We call these comments. To make a comment in Python, we add a ```#``` before the text we want to ignore. So, when you see comments, they will look like this:\n",
    "\n",
    "```python\n",
    "# This is a comment. Python does not read comments when code is run.\n",
    "```\n",
    "\n",
    "Programmers use comments to help them understand code. We will use comments to help you understand what to do in the code block."
   ]
  },
  {
   "cell_type": "code",
   "execution_count": null,
   "id": "d4b7ec6a",
   "metadata": {},
   "outputs": [],
   "source": [
    "# This is a Python code block. Put your cursor in this box and run the code.\n",
    "\n",
    "temperature = 70"
   ]
  },
  {
   "cell_type": "markdown",
   "id": "535e5919",
   "metadata": {},
   "source": [
    "## Where is our variable?\n",
    "\n",
    "If you successfully ran the code above, you should see something like ```[1]:``` to the left of the code block. Each time you run a code block, the number will increase by one. \n",
    "\n",
    "Variables are only good if we can use them in a larger program, so we need to access our variable. By access it, we mean making sure it was created and saved in the Python programming language environment. We can do that in a number of ways. The easiest way is to just enter the variable name in our Python and run it with Python. Do that in the code block below by entering the variable name and running the code block."
   ]
  },
  {
   "cell_type": "code",
   "execution_count": null,
   "id": "f1d0ea58",
   "metadata": {},
   "outputs": [],
   "source": [
    "# Type the variable name below and run this code block to see what returns.\n",
    "\n"
   ]
  },
  {
   "cell_type": "markdown",
   "id": "c5989a27",
   "metadata": {},
   "source": [
    "## Output\n",
    "\n",
    "if you did this correctly, you should see output from python on a line outside your code block like:\n",
    "\n",
    "```\n",
    "[2]:  70\n",
    "```\n",
    "\n",
    "When you run the variable name in Python, Python returns the value of that variable. You can also use the ```print``` command to do this by using code like:\n",
    "\n",
    "```python\n",
    "print(variable_name)\n",
    "```\n",
    "\n",
    "Try that below:"
   ]
  },
  {
   "cell_type": "code",
   "execution_count": null,
   "id": "95cda046",
   "metadata": {},
   "outputs": [],
   "source": [
    "# Insert your variable name in the code below and run this code block\n",
    "\n",
    "print()"
   ]
  },
  {
   "cell_type": "markdown",
   "id": "8bc97741",
   "metadata": {},
   "source": [
    "If you did this correctly, you should see the value you assigned to your variable printed below the code block.\n",
    "\n",
    "## Python Operators\n",
    "\n",
    "The power of programming begins when you start to use operators to change variables. An operator can be used to change a variable or use that variable to do something more complex. An easy example of an operator is the addition operator which in Python is ```+```.\n",
    "\n",
    "Let's say we want to add 30 to our variable. Python makes that easy. In the code block below enter your variable name add a space and then type ```+ 30```. Then run the code."
   ]
  },
  {
   "cell_type": "code",
   "execution_count": null,
   "id": "970d4939",
   "metadata": {},
   "outputs": [],
   "source": [
    "# Add 30 to your variable\n",
    "\n"
   ]
  },
  {
   "cell_type": "markdown",
   "id": "4cc1daa7",
   "metadata": {},
   "source": [
    "If your code ran successfully, your should see the output value of ```100``` under your code block\n",
    "\n",
    "As we saw before, we can also use the ```print``` command to do the same thing. For commands, like ```print```, the command runs on everything within the parentheses, so you need to add the operator ```+``` and the value you want to add ```30```.\n",
    "\n",
    "Other Python mathematical operators include:\n",
    "\n",
    "\n",
    "|Python Operator| Function|\n",
    "| :-: | :-: |\n",
    "|-| subtracts numbers (a - b)|\n",
    "|+| adds numbers (a + b)|\n",
    "|\\*| multiplies numbers (a * b)|\n",
    "|/| divides numbers (a / b)|\n",
    "|()| mathematical brackets ((a + (b * c))|\n",
    "\n",
    "Try using the ```print``` command below to print the results of ```temperature + 30``` by adding your variable and operation inside the parentheses ```()```."
   ]
  },
  {
   "cell_type": "code",
   "execution_count": null,
   "id": "bab87831",
   "metadata": {},
   "outputs": [],
   "source": [
    "print()"
   ]
  },
  {
   "cell_type": "markdown",
   "id": "54c7bedb",
   "metadata": {},
   "source": [
    "## Create your own variables\n",
    "\n",
    "Try creating some different numeric variables (a variable that is assigned a number like 2 or 3.14). We can create many other types of variables, but for now let's stick to numbers."
   ]
  },
  {
   "cell_type": "code",
   "execution_count": null,
   "id": "b300d148",
   "metadata": {},
   "outputs": [],
   "source": [
    "# Create some new numeric variables here.\n",
    "\n"
   ]
  },
  {
   "cell_type": "code",
   "execution_count": null,
   "id": "d4a86a62",
   "metadata": {},
   "outputs": [],
   "source": [
    "# Try some operations on your variables here.\n",
    "\n"
   ]
  },
  {
   "cell_type": "markdown",
   "id": "0b8b1103",
   "metadata": {},
   "source": [
    "## A more useful calculation\n",
    "\n",
    "Rather than just doing different operations on our variable, let's create a small program that is more useful. Pretend the sensor we mentioned earlier, outputs temperature values in Fahrenheit, but we want our variable to be in Celsius. So let's write an operation that calculates Celsius from our ```temperature``` variable in Fahrenheit.\n",
    "\n",
    "We'll learn a better way to build a function to do this later, so let's just have a simple line of code with the operation below. Run this code to see what happens."
   ]
  },
  {
   "cell_type": "code",
   "execution_count": null,
   "id": "aac492b1",
   "metadata": {},
   "outputs": [],
   "source": [
    "(temperature - 32) * 5 / 9 "
   ]
  },
  {
   "cell_type": "code",
   "execution_count": null,
   "id": "2106b634",
   "metadata": {},
   "outputs": [],
   "source": [
    "# We can also use the print command like we did before\n",
    "\n",
    "print((temperature - 32) * 5 / 9 )"
   ]
  },
  {
   "cell_type": "markdown",
   "id": "54fce072",
   "metadata": {},
   "source": [
    "# Record a Tuneni video describing what the previous line of code did\n",
    "\n",
    "Using the Tuneni video feature in this lesson, record yourself describing what each element of the code you ran above does. For example, start with the first element ```temperature```. What is that and what does the next element ```-``` do to it? Continue to describe the code and what the output of this line of code is."
   ]
  }
 ],
 "metadata": {
  "kernelspec": {
   "display_name": "Python 3",
   "language": "python",
   "name": "python3"
  },
  "language_info": {
   "codemirror_mode": {
    "name": "ipython",
    "version": 3
   },
   "file_extension": ".py",
   "mimetype": "text/x-python",
   "name": "python",
   "nbconvert_exporter": "python",
   "pygments_lexer": "ipython3",
   "version": "3.8.8"
  }
 },
 "nbformat": 4,
 "nbformat_minor": 5
}
